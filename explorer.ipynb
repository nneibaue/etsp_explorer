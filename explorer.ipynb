{
  "nbformat": 4,
  "nbformat_minor": 0,
  "metadata": {
    "colab": {
      "name": "explorer.ipynb",
      "provenance": [],
      "collapsed_sections": [],
      "toc_visible": true,
      "include_colab_link": true
    },
    "kernelspec": {
      "name": "python3",
      "display_name": "Python 3"
    }
  },
  "cells": [
    {
      "cell_type": "markdown",
      "metadata": {
        "id": "view-in-github",
        "colab_type": "text"
      },
      "source": [
        "<a href=\"https://colab.research.google.com/github/nneibaue/etsp_explorer/blob/master/explorer.ipynb\" target=\"_parent\"><img src=\"https://colab.research.google.com/assets/colab-badge.svg\" alt=\"Open In Colab\"/></a>"
      ]
    },
    {
      "cell_type": "markdown",
      "metadata": {
        "id": "tsVaO0lE3wko",
        "colab_type": "text"
      },
      "source": [
        "<h1>ETSP Data Explorer</h1>"
      ]
    },
    {
      "cell_type": "markdown",
      "metadata": {
        "id": "sj-OCDs8CKq9",
        "colab_type": "text"
      },
      "source": [
        "This notebook is written to provide some basic visualization tools in Python using some of Colab's nice output features. It's fairly basic, but should provide a decent example of how Python and Colab can be useful for something like this. Google provides a free runtime in the cloud, so no need to install Python and set anything up on the computer. The free version of Colab has more than enough features, memory, and drive space for our purposes here \n",
        "\n",
        "\n",
        "## Research Context\n",
        "\n",
        "Samples are collected at different depths for a given location in the ocean (e.g. lat, long). Each of these samples is measured for concentrations of various different elements via a 2D scan, yielding concentration values at individual pixels. A given pixel may contain a non-trivial concentration value for one or more elements. \n",
        "\n",
        "It is of particular interest how a given element (Cu in this case) is distributed among different element groups for a given scan. For example, one pixel could contain non-trivial concentrations of Cu, Mg, Br, and Zn, whereas another pixel might only contain Fe and Mg. \n",
        "\n",
        "\n",
        "## Problem Statement\n",
        "\n",
        "* Given a dataset for a single location, how does the distribution of an element vary with depth? Assumptions include:\n",
        "  * There can be many scans at a given depth\n",
        "  * No two scans overlap in space\n",
        "  * Concentration values ($[x]$) at a pixel are only considered non-trivial if:\n",
        "  $$\n",
        "  [x] > \\bar{[x]} + 2 \\cdot \\sigma_x \n",
        "  $$\n",
        "  where $\\bar{[x]}$ is the average concentration value and $\\sigma$ is the standard deviation\n",
        "  * Concentration values filtered by an element are only considered non-trivial if the element in question satisfies the above condition\n",
        "    * E.g. a pixel may contain non-trivial amounts of Ca and Mg, but not Cu. If we are filtering by Cu, then this pixel is rejected\n",
        "\n",
        "\n",
        "**Please don't edit this notebook directly. To make changes, first make a copy of the notebook.**"
      ]
    },
    {
      "cell_type": "markdown",
      "metadata": {
        "id": "SO_5yAfS4BCk",
        "colab_type": "text"
      },
      "source": [
        "#Setup"
      ]
    },
    {
      "cell_type": "markdown",
      "metadata": {
        "id": "uODehm9_315S",
        "colab_type": "text"
      },
      "source": [
        "The following cell clones the github repo so private libraries can be imported."
      ]
    },
    {
      "cell_type": "code",
      "metadata": {
        "id": "0A-O95Ht7nsY",
        "colab_type": "code",
        "cellView": "form",
        "colab": {}
      },
      "source": [
        "#@title Clone github repo\n",
        "import os\n",
        "import sys\n",
        "import shutil\n",
        "\n",
        "ROOT = '/content'\n",
        "REPO_NAME = 'etsp_explorer'\n",
        "REPO_PATH = os.path.join(ROOT, REPO_NAME)\n",
        "\n",
        "# Get latest changes if repo already exists\n",
        "if REPO_NAME in os.listdir(ROOT):\n",
        "  print('Local repo found. Updating....')\n",
        "  os.chdir(REPO_PATH)\n",
        "  !git pull\n",
        "else:\n",
        "  print('No local repo found. Cloning from github...')\n",
        "  !git clone https://github.com/nneibaue/etsp_explorer\n",
        "\n",
        "if REPO_PATH not in sys.path:\n",
        "  print(f'Adding {REPO_PATH} to path')\n",
        "  sys.path.append(REPO_PATH)\n",
        "\n",
        "os.chdir(ROOT)"
      ],
      "execution_count": 0,
      "outputs": []
    },
    {
      "cell_type": "code",
      "metadata": {
        "id": "izLj6BuFCNAL",
        "colab_type": "code",
        "cellView": "form",
        "colab": {}
      },
      "source": [
        "#@title Imports\n",
        "\n",
        "# etsp stuff\n",
        "from etsp import Detsum, Scan, CombinedScan, Depth\n",
        "from plotting import ribbon_plot\n",
        "\n",
        "# Colab output stuff\n",
        "from google.colab import drive\n",
        "from google.colab import widgets\n",
        "from IPython.display import display, HTML\n",
        "import ipywidgets\n",
        "\n",
        "# General\n",
        "import numpy as np\n",
        "import random\n",
        "import re\n",
        "import pandas as pd\n",
        "\n",
        "# Plotting\n",
        "from cycler import cycler\n",
        "import altair as alt\n",
        "import matplotlib.pyplot as plt\n",
        "import matplotlib.patches as mpatches\n",
        "#from IPython import display, html\n",
        "#Namespace class to keep things organized\n",
        "class Namespace:\n",
        "  def __init__(self, **kwargs):\n",
        "    self.__dict__.update(**kwargs)"
      ],
      "execution_count": 0,
      "outputs": []
    },
    {
      "cell_type": "code",
      "metadata": {
        "id": "1IIF7n2uCsTw",
        "colab_type": "code",
        "cellView": "form",
        "colab": {}
      },
      "source": [
        "#@title Connect Google Drive\n",
        "\n",
        "drive.mount('/content/gdrive')\n",
        "DRIVE_BASE = '/content/gdrive/My Drive'"
      ],
      "execution_count": 0,
      "outputs": []
    },
    {
      "cell_type": "markdown",
      "metadata": {
        "id": "IucbYz36Ue3u",
        "colab_type": "text"
      },
      "source": [
        "# Analysis"
      ]
    },
    {
      "cell_type": "code",
      "metadata": {
        "id": "bvSFA7UxCVmw",
        "colab_type": "code",
        "cellView": "both",
        "colab": {}
      },
      "source": [
        "#@title Data Import\n",
        "\n",
        "#@markdown Enter drive path to data folder (do not include 'My Drive/'):\n",
        "data_path = \"software_development/etsp/XRF data deglitch/\" #@param{type:\"string\"}\n",
        "#depth_path = \"software_development/etsp/XRF data/25m\" #@param {type:\"string\"}\n",
        "#@markdown Enter elements separated by comma\n",
        "ELEMENTS_OF_INTEREST = \"Br,Ca,Cu,Fe,K,Cl,Mn,S,Si,Zn\" #@param {type:\"string\"}\n",
        "ELEMENTS_OF_INTEREST=ELEMENTS_OF_INTEREST.split(',')\n",
        "ORBITALS = \"K\" #@param {type:\"string\"}\n",
        "\n",
        "def import_data(data_path):\n",
        "  depths = []\n",
        "  for d in os.listdir(os.path.join(DRIVE_BASE, data_path)):\n",
        "    try:\n",
        "      fullpath = os.path.join(DRIVE_BASE, data_path, d)\n",
        "      d = Depth(os.path.join(fullpath),\n",
        "                      ELEMENTS_OF_INTEREST,\n",
        "                      orbitals=['K'],\n",
        "                      normalized=True)\n",
        "      depths.append(d)\n",
        "      print(f\"Successfully imported data for {d.depth}\")\n",
        "    except NameError as e:\n",
        "      print(e)\n",
        "      pass\n",
        "  return depths\n",
        "\n",
        "depths = import_data(data_path)\n",
        "PROP_DICT = {} # For storing properties of ribbon plots"
      ],
      "execution_count": 0,
      "outputs": []
    },
    {
      "cell_type": "code",
      "metadata": {
        "id": "DQpmAjZbvR8v",
        "colab_type": "code",
        "cellView": "form",
        "colab": {}
      },
      "source": [
        "#@title Element Filter"
      ],
      "execution_count": 0,
      "outputs": []
    },
    {
      "cell_type": "code",
      "metadata": {
        "id": "OEPCOP4WAJU8",
        "colab_type": "code",
        "colab": {}
      },
      "source": [
        "# Function template\n",
        "mean_n_std = lambda n: (lambda x: np.mean(x) + np.std(x) * n)\n",
        "\n",
        "ELEMENT_FILTER = {\n",
        "    'Br': mean_n_std(2),\n",
        "    'Ca': mean_n_std(2),\n",
        "    'Cu': mean_n_std(2),\n",
        "    'Fe': mean_n_std(2),\n",
        "    'K': mean_n_std(2),\n",
        "    'Cl': mean_n_std(2),\n",
        "    'Mn': mean_n_std(2),\n",
        "    'S': mean_n_std(2),\n",
        "    'Si': mean_n_std(2),\n",
        "    'Zn': mean_n_std(2),\n",
        "}\n",
        "\n",
        "del(mean_n_std)"
      ],
      "execution_count": 0,
      "outputs": []
    },
    {
      "cell_type": "markdown",
      "metadata": {
        "id": "J8leOAX7VLVR",
        "colab_type": "text"
      },
      "source": [
        "## Looking for Glitches\n",
        "\n",
        "Uncomment the last line and run the following cell to plot all `Detsums` from all depths."
      ]
    },
    {
      "cell_type": "code",
      "metadata": {
        "id": "hLc1k7-dVpzH",
        "colab_type": "code",
        "cellView": "form",
        "colab": {}
      },
      "source": [
        "#@title Plot All Detsums\n",
        "\n",
        "elements_to_plot = 'Br,Ca,Cu,Fe,K,Cl,Mn,S,Si,Zn' #@param {type:\"string\"}\n",
        "sort_by = \"element\" #@param [\"element\", \"depth\"]\n",
        "\n",
        "#@markdown To show plots, check box below and run cell\n",
        "show_plots = False #@param {type:\"boolean\"}\n",
        "\n",
        "def plot_all_detsums(depths, elements=None, sort_by='element'):\n",
        "  '''Plots the raw data from all detsums of the given elements.\n",
        "\n",
        "  Args:\n",
        "    depths: list of Depth objects\n",
        "    elements: optional list of elements. E.g. ['Cu', 'Fe']. If this \n",
        "      is `None`, then all elements will be plotted\n",
        "    sort_by: string. Can either be 'element' or 'depth'. This will\n",
        "      determine how the detsums are sorted before they are rendered\n",
        "      to the screen. This is set to 'element' by default\n",
        "    \n",
        "  Returns: raw detsums plotted in a grid\n",
        "  '''\n",
        "\n",
        "  # Triple looping to get detsums from all depths\n",
        "  detsums = []\n",
        "  for d in depths:\n",
        "    for s in d.scans:\n",
        "      for detsum in s.detsums:\n",
        "        if elements is not None:\n",
        "          if detsum.element not in elements:\n",
        "            continue # skip to next iteration\n",
        "        detsums.append(detsum)\n",
        "\n",
        "  # Determine sorting function \n",
        "  if sort_by == 'element':\n",
        "    sort_func = lambda d: d.element\n",
        "  elif sort_by == 'depth':\n",
        "    sort_func = lambda d: int(d.depth.split('m')[0]) # Turn depth into integer for sorting\n",
        "  else:\n",
        "    raise ValueError(\"`sort_by` must be 'element' or 'depth'\")\n",
        "  \n",
        "  # Sort detsums\n",
        "  detsums = sorted(detsums, key=sort_func)\n",
        "\n",
        "  # Build grid\n",
        "  ncols = 4\n",
        "  nrows = 1 + (len(detsums) // ncols)\n",
        "  g = widgets.Grid(nrows, ncols)\n",
        "  row = 0\n",
        "  col = 0\n",
        "  for i, detsum in enumerate(detsums):\n",
        "    with g.output_to(row, col):\n",
        "      #print(f'Element: {detsum.element}, Depth: {detsum.depth}, Scan: {detsum.scan_name}')\n",
        "      print(f'    {detsum.element}    |    {detsum.depth}    |    {detsum.scan_name}')\n",
        "      detsum.plot(raw=True)\n",
        "    if (col + 1) % 4 == 0:\n",
        "      row += 1\n",
        "      col = 0\n",
        "    else:\n",
        "      col += 1\n",
        "\n",
        "##Example Usage\n",
        "#=====================================\n",
        "#Uncomment this line to plot all detsums from Iron and Copper, e.g:\n",
        "#plot_all_detsums(depths, elements=['Fe', 'Cu'])\n",
        "\n",
        "#Uncomment this line to plot all detsums from all elements and sort by depth:\n",
        "if show_plots:\n",
        "  plot_all_detsums(depths,\n",
        "                  elements=elements_to_plot.split(','),\n",
        "                  sort_by=sort_by)\n",
        "\n",
        "del(elements_to_plot, sort_by, show_plots)"
      ],
      "execution_count": 0,
      "outputs": []
    },
    {
      "cell_type": "markdown",
      "metadata": {
        "id": "qb48mm05gfa9",
        "colab_type": "text"
      },
      "source": [
        "## **Plotting**"
      ]
    },
    {
      "cell_type": "code",
      "metadata": {
        "id": "1IBzYoXkJVKb",
        "colab_type": "code",
        "cellView": "form",
        "colab": {}
      },
      "source": [
        "#@title RibbonPlotUI\n",
        "graph_output = ipywidgets.Output()\n",
        "element_inputs = {}\n",
        "element_filter = {}\n",
        "test = {}\n",
        "smalltextbox = ipywidgets.Layout(width='50px', height='25px')\n",
        "filter_func = lambda n: lambda x: np.mean(x) + np.std(x)*n\n",
        "\n",
        "for e in ELEMENTS_OF_INTEREST:\n",
        "  element_inputs[e] = ipywidgets.Textarea(value='2', layout=smalltextbox)\n",
        "  element_filter[e] = filter_func(2)\n",
        "\n",
        "\n",
        "\n",
        "# filter_row = lambda e: ipywidgets.VBox([ipywidgets.HTML(f'{e}'),\n",
        "#                                         ipywidgets.HBox(\n",
        "#                                             [ipywidgets.HTML('mean + '),\n",
        "#                                              element_sliders[e],\n",
        "#                                              ipywidgets.HTML(' std')])\n",
        "#                                       ])\n",
        "\n",
        "element_filter_input = ipywidgets.HBox(\n",
        "    [ipywidgets.VBox([ipywidgets.HTML(f'<h3>{e}</h3>'), element_inputs[e]]) for e in ELEMENTS_OF_INTEREST]\n",
        ")\n",
        "\n",
        "filter_by_control = ipywidgets.HBox(\n",
        "    [ipywidgets.HTML('Filter by: '), ipywidgets.Dropdown(options=ELEMENTS_OF_INTEREST, value='Cu')])\n",
        "\n",
        "combine_scans_checkbox = ipywidgets.HBox([ipywidgets.HTML('Combine Scans: '),\n",
        "                                          ipywidgets.Checkbox(value=True)])\n",
        "\n",
        "combine_detsums_checkbox = ipywidgets.HBox([ipywidgets.HTML('Combine detsums: '),\n",
        "                                          ipywidgets.Checkbox(value=False)])\n",
        "\n",
        "normalize_by_control = ipywidgets.HBox(\n",
        "    [ipywidgets.HTML('Filter by: '), ipywidgets.Dropdown(options=['counts', 'pixels'], value='counts')]\n",
        ")\n",
        "\n",
        "N_input = ipywidgets.HBox([ipywidgets.HTML('N: '),\n",
        "                          ipywidgets.Textarea(value='8', layout=smalltextbox)])\n",
        "update_button = ipywidgets.Button(description='Update Plot')                          \n",
        "\n",
        "\n",
        "def set_filter(e, val):\n",
        "    if not val:\n",
        "      return\n",
        "    val = float(val)\n",
        "    element_filter[e] = filter_func(val)\n",
        "    test[e] = val\n",
        "\n",
        "def update_plot(b):\n",
        "  graph_output.clear_output()\n",
        "  with graph_output:\n",
        "    plt.close()\n",
        "    ribbon_plot(depths, element_filter=element_filter,\n",
        "                filter_by=filter_by_control.children[1].value,\n",
        "                combine_detsums=combine_detsums_checkbox.children[1].value,\n",
        "                combine_scans=combine_scans_checkbox.children[1].value,\n",
        "                N=int(N_input.children[1].value),\n",
        "                normalize_by=normalize_by_control.children[1].value)\n",
        "\n",
        "for e in element_filter:\n",
        "  element_inputs[e].observe(\n",
        "      lambda change, e=e: set_filter(e, change['new']), names='value')\n",
        "\n",
        "update_button.on_click(update_plot)\n",
        "\n",
        "with graph_output:\n",
        "    ribbon_plot(\n",
        "        depths,\n",
        "        element_filter=element_filter,\n",
        "        filter_by='Cu',\n",
        "        combine_scans=True,\n",
        "        combine_detsums=False,\n",
        "        N=8,\n",
        "        normalize_by='counts',\n",
        "        prop_dict=PROP_DICT,\n",
        "    )\n",
        "\n",
        "\n",
        "# top = ipywidgets.VBox([filter_row(e) for e in ELEMENTS_OF_INTEREST])\n",
        "top = element_filter_input\n",
        "controls = ipywidgets.HBox([update_button, filter_by_control, combine_scans_checkbox,\n",
        "                            combine_detsums_checkbox, N_input, normalize_by_control],\n",
        "                          layout=ipywidgets.Layout(\n",
        "                              padding='0px',\n",
        "                              border='1px solid black',\n",
        "                          ))\n",
        "\n",
        "app = ipywidgets.VBox([top, graph_output, controls])\n",
        "  \n",
        "display(app)"
      ],
      "execution_count": 0,
      "outputs": []
    },
    {
      "cell_type": "markdown",
      "metadata": {
        "id": "Cb_nBCYO2CA_",
        "colab_type": "text"
      },
      "source": [
        "### Ribbon Plots"
      ]
    },
    {
      "cell_type": "code",
      "metadata": {
        "id": "No1dzCeLafzp",
        "colab_type": "code",
        "colab": {}
      },
      "source": [
        "# Filter by Cu, take the top 8 groups. Separate Scans, Combined Detsums\n",
        "ribbon_plot(depths, element_filter=ELEMENT_FILTER,\n",
        "            filter_by='Cu',\n",
        "            combine_scans=False,\n",
        "            combine_detsums=True,\n",
        "            N=8,\n",
        "            normalize_by='counts',\n",
        "            prop_dict=PROP_DICT)"
      ],
      "execution_count": 0,
      "outputs": []
    }
  ]
}