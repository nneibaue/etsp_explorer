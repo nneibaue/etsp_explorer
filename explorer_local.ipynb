{
 "cells": [
  {
   "cell_type": "markdown",
   "metadata": {
    "colab_type": "text",
    "id": "view-in-github"
   },
   "source": [
    "<a href=\"https://colab.research.google.com/github/nneibaue/ocean_explorer/blob/staging/explorer_official.ipynb\" target=\"_parent\"><img src=\"https://colab.research.google.com/assets/colab-badge.svg\" alt=\"Open In Colab\"/></a>"
   ]
  },
  {
   "cell_type": "markdown",
   "metadata": {
    "colab_type": "text",
    "id": "tsVaO0lE3wko"
   },
   "source": [
    "<h1>Ocean Data Explorer</h1>"
   ]
  },
  {
   "cell_type": "code",
   "execution_count": 1,
   "metadata": {
    "cellView": "form",
    "colab": {},
    "colab_type": "code",
    "id": "izLj6BuFCNAL"
   },
   "outputs": [
    {
     "data": {
      "text/html": [
       "<style>div.output_scroll { height: 44em; }</style>"
      ],
      "text/plain": [
       "<IPython.core.display.HTML object>"
      ]
     },
     "metadata": {},
     "output_type": "display_data"
    }
   ],
   "source": [
    "# etsp stuff\n",
    "import ocean\n",
    "import plotting as op\n",
    "import ocean_utils as utils\n",
    "from IPython.core.display import display, HTML\n",
    "\n",
    "# Convenience function to reload github and reimport\n",
    "\n",
    "from importlib import reload\n",
    "def refresh_modules():\n",
    "  reload(ocean)\n",
    "  reload(op)\n",
    "  reload(utils)\n",
    "\n",
    "display(HTML(\"<style>div.output_scroll { height: 44em; }</style>\"))"
   ]
  },
  {
   "cell_type": "markdown",
   "metadata": {
    "colab_type": "text",
    "id": "IucbYz36Ue3u"
   },
   "source": [
    "# Data Import"
   ]
  },
  {
   "cell_type": "code",
   "execution_count": 2,
   "metadata": {
    "cellView": "form",
    "colab": {},
    "colab_type": "code",
    "id": "bvSFA7UxCVmw"
   },
   "outputs": [
    {
     "name": "stdout",
     "output_type": "stream",
     "text": [
      "ETSP_PS2: Successfully imported data for 750m\n",
      "ETSP_PS2: Successfully imported data for 250m\n",
      "ETSP_PS2: Successfully imported data for 400m\n",
      "ETSP_PS2: Successfully imported data for 20m\n",
      "ETSP_PS2: Successfully imported data for 80m\n",
      "ETSP deglitch.xlsx is not a valid name for a Depth!\n",
      "ETSP_PS2: Successfully imported data for 40m\n",
      "ETSP_PS3: Successfully imported data for 165m\n",
      "ETSP_PS3: Successfully imported data for 10m\n",
      "ETSP_PS3: Successfully imported data for 50m\n",
      "ETSP_PS3: Successfully imported data for 250m\n",
      "ETSP_PS3: Successfully imported data for 900m\n",
      "ETSP deglitch.xlsx is not a valid name for a Depth!\n",
      "ETSP_PS3: Successfully imported data for 25m\n",
      "ETSP_PS3: Successfully imported data for 40m\n",
      "ETSP_PS3: Successfully imported data for 65m\n"
     ]
    }
   ],
   "source": [
    "refresh_modules()\n",
    "EXPERIMENT_DIR = \"deglitched_profiles\"\n",
    "ELEMENTS_OF_INTEREST = \"Br,Ca,Cu,Fe,K,Cl,Mn,S,Si,Zn\"\n",
    "ELEMENTS_OF_INTEREST=ELEMENTS_OF_INTEREST.split(',')\n",
    "ORBITALS = \"K\"\n",
    "profiles = ocean.load_profiles(EXPERIMENT_DIR,\n",
    "                               elements_of_interest=ELEMENTS_OF_INTEREST,\n",
    "                               orbitals=[ORBITALS],\n",
    "                               normalized=True)"
   ]
  },
  {
   "cell_type": "markdown",
   "metadata": {},
   "source": [
    "# UI"
   ]
  },
  {
   "cell_type": "code",
   "execution_count": 31,
   "metadata": {
    "scrolled": false
   },
   "outputs": [
    {
     "data": {
      "application/vnd.jupyter.widget-view+json": {
       "model_id": "eb6380f6ba914375958c69942e5d6000",
       "version_major": 2,
       "version_minor": 0
      },
      "text/plain": [
       "VBox(children=(HTML(value='<h2>Noise Flagging</h2>'), HBox(children=(Dropdown(description='Select Profile', op…"
      ]
     },
     "metadata": {},
     "output_type": "display_data"
    }
   ],
   "source": [
    "refresh_modules()\n",
    "op.run_ui(profiles, op.noise_flagging_ui, title='Noise Flagging')"
   ]
  },
  {
   "cell_type": "code",
   "execution_count": 4,
   "metadata": {
    "colab": {},
    "colab_type": "code",
    "id": "nuC2KKRolCtz"
   },
   "outputs": [
    {
     "data": {
      "application/vnd.jupyter.widget-view+json": {
       "model_id": "450e6c5bc2544ec7a375e7e0ddeb7196",
       "version_major": 2,
       "version_minor": 0
      },
      "text/plain": [
       "VBox(children=(HTML(value='<h2>Ribbon Plot</h2>'), HBox(children=(Dropdown(description='Select Profile', optio…"
      ]
     },
     "metadata": {},
     "output_type": "display_data"
    }
   ],
   "source": [
    "op.run_ui(profiles, lambda profile: op.ribbon_plot_ui(profile, ELEMENTS_OF_INTEREST), title='Ribbon Plot')"
   ]
  },
  {
   "cell_type": "code",
   "execution_count": 11,
   "metadata": {
    "cellView": "form",
    "colab": {},
    "colab_type": "code",
    "id": "1IBzYoXkJVKb",
    "scrolled": false
   },
   "outputs": [
    {
     "data": {
      "application/vnd.jupyter.widget-view+json": {
       "model_id": "dad67703182148d489e469a90abe5b7a",
       "version_major": 2,
       "version_minor": 0
      },
      "text/plain": [
       "VBox(children=(HTML(value='<h2>Image Explorer</h2>'), HBox(children=(Dropdown(description='Select Profile', op…"
      ]
     },
     "metadata": {},
     "output_type": "display_data"
    }
   ],
   "source": [
    "op.run_ui(profiles, lambda profile: op.image_ui(profile, ELEMENTS_OF_INTEREST), title='Image Explorer')"
   ]
  },
  {
   "cell_type": "code",
   "execution_count": 10,
   "metadata": {},
   "outputs": [],
   "source": [
    "refresh_modules()"
   ]
  },
  {
   "cell_type": "code",
   "execution_count": 9,
   "metadata": {},
   "outputs": [
    {
     "data": {
      "application/vnd.jupyter.widget-view+json": {
       "model_id": "e4a4df27e11f4f51b57ddaac69407e59",
       "version_major": 2,
       "version_minor": 0
      },
      "text/plain": [
       "Tab(children=(FloatSlider(value=0.0, max=5.0, step=1.0), FloatSlider(value=0.0, max=5.0, step=1.0), FloatSlide…"
      ]
     },
     "metadata": {},
     "output_type": "display_data"
    }
   ],
   "source": [
    "import ipywidgets as iw\n",
    "sliders = [iw.FloatSlider(min=0, max=5, step=1) for _ in range(10)]\n",
    "def print_value(val):\n",
    "    print(val['new'])\n",
    "    \n",
    "for slider in sliders:\n",
    "    slider.observe(print_value, names='value')\n",
    "\n",
    "#display(slider)\n",
    "tabs = iw.Tab(children=sliders)\n",
    "display(tabs)"
   ]
  },
  {
   "cell_type": "code",
   "execution_count": 28,
   "metadata": {},
   "outputs": [
    {
     "name": "stdout",
     "output_type": "stream",
     "text": [
      "Help on function ribbon_plot in module plotting:\n",
      "\n",
      "ribbon_plot(profile, element_filter, filter_by='Cu', combine_scans=True, combine_detsums=True, N=8, normalize_by='counts', base64=False)\n",
      "    Shows fractional concentration of element among different groups.\n",
      "    \n",
      "    Args:\n",
      "      profile: ocean.Profile object\n",
      "      element_filter: dict specifying how elements should be filtered. For more \n",
      "        info, see `Depth.apply_element_filter`. In Colab, this can be done by\n",
      "        opening a new cell and running `Depth.apply_element_filter?`.\n",
      "      combine_scans: bool. Whether or not to show individual scans as different\n",
      "        bars in the ribbon plot. If this is True, then scans will be combined\n",
      "      combine_detsums: bool. Whether or not to combine detsums when applying the\n",
      "        filter functions defined in `element_filter`. If this is True, then all\n",
      "        detsums within a given depth will be considered when applying the filter.\n",
      "      N: int. The amount of groups to use. For example, N=12 means \"take the\n",
      "        top 12 groups from each depth\"\n",
      "      normalize_by: string. Which quantity to use for data normalization. This\n",
      "        can either be 'counts' or 'pixels'.\n",
      "      base64: bool. If this is True, will encode the graph and return html image element.\n",
      "\n"
     ]
    }
   ],
   "source": [
    "import numpy as np\n",
    "p = profiles['ETSP_PS2']\n",
    "d = p.depths[-1]\n",
    "s = d.scans[0]\n",
    "s.data['Br'].sum()\n",
    "#s.get_unique_groups(['Cu'], 'Cu_counts')\n",
    "#np.nansum(det.data)\n",
    "help(op.ribbon_plot)\n"
   ]
  },
  {
   "cell_type": "code",
   "execution_count": 18,
   "metadata": {},
   "outputs": [
    {
     "data": {
      "application/vnd.jupyter.widget-view+json": {
       "model_id": "226b264661f94e8896532bc2bb9f9456",
       "version_major": 2,
       "version_minor": 0
      },
      "text/plain": [
       "HBox(children=(VBox(children=(Output(), FloatSlider(value=5.72e-06, continuous_update=False, layout=Layout(wid…"
      ]
     },
     "metadata": {},
     "output_type": "display_data"
    }
   ],
   "source": [
    "widgets = [op.DetsumPlot(d).widget for _ in range(4)]\n",
    "iw.HBox(widgets)"
   ]
  },
  {
   "cell_type": "code",
   "execution_count": null,
   "metadata": {},
   "outputs": [],
   "source": []
  }
 ],
 "metadata": {
  "colab": {
   "collapsed_sections": [],
   "include_colab_link": true,
   "name": "explorer_official.ipynb",
   "provenance": []
  },
  "kernelspec": {
   "display_name": "Python 3",
   "language": "python",
   "name": "python3"
  },
  "language_info": {
   "codemirror_mode": {
    "name": "ipython",
    "version": 3
   },
   "file_extension": ".py",
   "mimetype": "text/x-python",
   "name": "python",
   "nbconvert_exporter": "python",
   "pygments_lexer": "ipython3",
   "version": "3.8.6"
  }
 },
 "nbformat": 4,
 "nbformat_minor": 1
}
