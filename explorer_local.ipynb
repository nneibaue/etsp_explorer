{
 "cells": [
  {
   "cell_type": "markdown",
   "metadata": {
    "colab_type": "text",
    "id": "view-in-github"
   },
   "source": [
    "<a href=\"https://colab.research.google.com/github/nneibaue/ocean_explorer/blob/staging/explorer_official.ipynb\" target=\"_parent\"><img src=\"https://colab.research.google.com/assets/colab-badge.svg\" alt=\"Open In Colab\"/></a>"
   ]
  },
  {
   "cell_type": "markdown",
   "metadata": {
    "colab_type": "text",
    "id": "tsVaO0lE3wko"
   },
   "source": [
    "<h1>Ocean Data Explorer</h1>"
   ]
  },
  {
   "cell_type": "code",
   "execution_count": 2,
   "metadata": {
    "cellView": "form",
    "colab": {},
    "colab_type": "code",
    "id": "izLj6BuFCNAL"
   },
   "outputs": [
    {
     "data": {
      "text/html": [
       "<style>div.output_scroll { height: 44em; }</style>"
      ],
      "text/plain": [
       "<IPython.core.display.HTML object>"
      ]
     },
     "metadata": {},
     "output_type": "display_data"
    }
   ],
   "source": [
    "# etsp stuff\n",
    "import ocean\n",
    "import plotting as op\n",
    "import ocean_utils as utils\n",
    "from IPython.core.display import display, HTML\n",
    "\n",
    "# Convenience function to reload github and reimport\n",
    "\n",
    "from importlib import reload\n",
    "def refresh_modules():\n",
    "  reload(ocean)\n",
    "  reload(op)\n",
    "  reload(utils)\n",
    "\n",
    "display(HTML(\"<style>div.output_scroll { height: 44em; }</style>\"))"
   ]
  },
  {
   "cell_type": "markdown",
   "metadata": {
    "colab_type": "text",
    "id": "IucbYz36Ue3u"
   },
   "source": [
    "# Data Import"
   ]
  },
  {
   "cell_type": "code",
   "execution_count": 3,
   "metadata": {
    "cellView": "form",
    "colab": {},
    "colab_type": "code",
    "id": "bvSFA7UxCVmw"
   },
   "outputs": [
    {
     "name": "stdout",
     "output_type": "stream",
     "text": [
      "ETSP_PS2: Successfully imported data for 750m\n",
      "ETSP_PS2: Successfully imported data for 250m\n",
      "ETSP_PS2: Successfully imported data for 400m\n",
      "ETSP_PS2: Successfully imported data for 20m\n",
      "ETSP_PS2: Successfully imported data for 80m\n",
      "ETSP deglitch.xlsx is not a valid name for a Depth!\n",
      "ETSP_PS2: Successfully imported data for 40m\n",
      "ETSP_PS3: Successfully imported data for 165m\n",
      "ETSP_PS3: Successfully imported data for 10m\n",
      "ETSP_PS3: Successfully imported data for 50m\n",
      "ETSP_PS3: Successfully imported data for 250m\n",
      "ETSP_PS3: Successfully imported data for 900m\n",
      "ETSP deglitch.xlsx is not a valid name for a Depth!\n",
      "ETSP_PS3: Successfully imported data for 25m\n",
      "ETSP_PS3: Successfully imported data for 40m\n",
      "ETSP_PS3: Successfully imported data for 65m\n"
     ]
    }
   ],
   "source": [
    "refresh_modules()\n",
    "EXPERIMENT_DIR = \"deglitched_profiles\"\n",
    "ELEMENTS_OF_INTEREST = \"Br,Ca,Cu,Fe,K,Cl,Mn,S,Si,Zn\"\n",
    "ELEMENTS_OF_INTEREST=ELEMENTS_OF_INTEREST.split(',')\n",
    "ORBITALS = \"K\"\n",
    "profiles = ocean.load_profiles(EXPERIMENT_DIR,\n",
    "                               elements_of_interest=ELEMENTS_OF_INTEREST,\n",
    "                               orbitals=[ORBITALS],\n",
    "                               normalized=True)"
   ]
  },
  {
   "cell_type": "markdown",
   "metadata": {},
   "source": [
    "# UI"
   ]
  },
  {
   "cell_type": "code",
   "execution_count": 5,
   "metadata": {
    "scrolled": false
   },
   "outputs": [
    {
     "data": {
      "application/vnd.jupyter.widget-view+json": {
       "model_id": "63c428bbfdfe44cabe2dd8533f94057d",
       "version_major": 2,
       "version_minor": 0
      },
      "text/plain": [
       "VBox(children=(HTML(value='<h2>Noise Flagging</h2>'), HBox(children=(Dropdown(description='Select Profile', op…"
      ]
     },
     "metadata": {},
     "output_type": "display_data"
    }
   ],
   "source": [
    "refresh_modules()\n",
    "op.run_ui(profiles, op.noise_flagging_ui, title='Noise Flagging')"
   ]
  },
  {
   "cell_type": "code",
   "execution_count": null,
   "metadata": {
    "colab": {},
    "colab_type": "code",
    "id": "nuC2KKRolCtz"
   },
   "outputs": [],
   "source": [
    "op.run_ui(profiles, lambda profile: op.ribbon_plot_ui(profile, ELEMENTS_OF_INTEREST), title='Ribbon Plot')"
   ]
  },
  {
   "cell_type": "code",
   "execution_count": null,
   "metadata": {
    "cellView": "form",
    "colab": {},
    "colab_type": "code",
    "id": "1IBzYoXkJVKb"
   },
   "outputs": [],
   "source": [
    "refresh_modules()\n",
    "op.run_ui(profiles, lambda profile: op.image_ui(profile, ELEMENTS_OF_INTEREST), title='Image Explorer')"
   ]
  }
 ],
 "metadata": {
  "colab": {
   "collapsed_sections": [],
   "include_colab_link": true,
   "name": "explorer_official.ipynb",
   "provenance": []
  },
  "kernelspec": {
   "display_name": "Python 3",
   "language": "python",
   "name": "python3"
  },
  "language_info": {
   "codemirror_mode": {
    "name": "ipython",
    "version": 3
   },
   "file_extension": ".py",
   "mimetype": "text/x-python",
   "name": "python",
   "nbconvert_exporter": "python",
   "pygments_lexer": "ipython3",
   "version": "3.8.6"
  }
 },
 "nbformat": 4,
 "nbformat_minor": 1
}
