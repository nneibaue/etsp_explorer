{
  "nbformat": 4,
  "nbformat_minor": 0,
  "metadata": {
    "colab": {
      "name": "etsp_data_explorer.ipynb",
      "provenance": [],
      "collapsed_sections": [],
      "toc_visible": true,
      "include_colab_link": true
    },
    "kernelspec": {
      "name": "python3",
      "display_name": "Python 3"
    }
  },
  "cells": [
    {
      "cell_type": "markdown",
      "metadata": {
        "id": "view-in-github",
        "colab_type": "text"
      },
      "source": [
        "<a href=\"https://colab.research.google.com/github/nneibaue/etsp_explorer/blob/master/etsp_data_explorer.ipynb\" target=\"_parent\"><img src=\"https://colab.research.google.com/assets/colab-badge.svg\" alt=\"Open In Colab\"/></a>"
      ]
    },
    {
      "cell_type": "markdown",
      "metadata": {
        "id": "tsVaO0lE3wko",
        "colab_type": "text"
      },
      "source": [
        "<h1>ETSP Data Explorer</h1>"
      ]
    },
    {
      "cell_type": "markdown",
      "metadata": {
        "id": "sj-OCDs8CKq9",
        "colab_type": "text"
      },
      "source": [
        "This notebook is written to provide some basic visualization tools in Python using some of Colab's nice output features. It's fairly basic, but should provide a decent example of how Python and Colab can be useful for something like this. Google provides a free runtime in the cloud, so no need to install Python and set anything up on the computer. The free version of Colab has more than enough features, memory, and drive space for our purposes here \n",
        "\n",
        "\n",
        "## Research Context\n",
        "\n",
        "Samples are collected at different depths for a given location in the ocean (e.g. lat, long). Each of these samples is measured for concentrations of various different elements via a 2D scan, yielding concentration values at individual pixels. A given pixel may contain a non-trivial concentration value for one or more elements. \n",
        "\n",
        "It is of particular interest how a given element (Cu in this case) is distributed among different element groups for a given scan. For example, one pixel could contain non-trivial concentrations of Cu, Mg, Br, and Zn, whereas another pixel might only contain Fe and Mg. \n",
        "\n",
        "\n",
        "## Problem Statement\n",
        "\n",
        "* Given a dataset for a single location, how does the distribution of an element vary with depth? Assumptions include:\n",
        "  * There can be many scans at a given depth\n",
        "  * No two scans overlap in space\n",
        "  * Concentration values ($[x]$) at a pixel are only considered non-trivial if:\n",
        "  $$\n",
        "  [x] > \\bar{[x]} + 2 \\cdot \\sigma_x \n",
        "  $$\n",
        "  where $\\bar{[x]}$ is the average concentration value and $\\sigma$ is the standard deviation\n",
        "  * Concentration values filtered by an element are only considered non-trivial if the element in question satisfies the above condition\n",
        "    * E.g. a pixel may contain non-trivial amounts of Ca and Mg, but not Cu. If we are filtering by Cu, then this pixel is rejected\n",
        "\n",
        "\n",
        "**Please don't edit this notebook directly. To make changes, first make a copy of the notebook.**"
      ]
    },
    {
      "cell_type": "markdown",
      "metadata": {
        "id": "SO_5yAfS4BCk",
        "colab_type": "text"
      },
      "source": [
        "#Setup"
      ]
    },
    {
      "cell_type": "markdown",
      "metadata": {
        "id": "uODehm9_315S",
        "colab_type": "text"
      },
      "source": [
        "##Imports"
      ]
    },
    {
      "cell_type": "code",
      "metadata": {
        "id": "izLj6BuFCNAL",
        "colab_type": "code",
        "colab": {}
      },
      "source": [
        "from google.colab import drive\n",
        "from google.colab import widgets\n",
        "import numpy as np\n",
        "import matplotlib.pyplot as plt\n",
        "import matplotlib.patches as mpatches\n",
        "import os\n",
        "import pandas as pd\n",
        "import plotly.graph_objs as go\n",
        "from plotly.offline import iplot\n",
        "import random\n",
        "import re\n",
        "from functools import reduce\n",
        "#from IPython import display, html\n",
        "import altair as alt\n",
        "from IPython.display import display, HTML\n",
        "from cycler import cycler\n",
        "#Namespace class to keep things organized\n",
        "class Namespace:\n",
        "  def __init__(self, **kwargs):\n",
        "    self.__dict__.update(**kwargs)"
      ],
      "execution_count": 0,
      "outputs": []
    },
    {
      "cell_type": "markdown",
      "metadata": {
        "id": "gjcmR78xjfuY",
        "colab_type": "text"
      },
      "source": [
        "## Connecting Google Drive\n",
        "\n",
        "Run the following cell, then follow the instructions to link this notebook with Google drive"
      ]
    },
    {
      "cell_type": "code",
      "metadata": {
        "id": "1IIF7n2uCsTw",
        "colab_type": "code",
        "colab": {}
      },
      "source": [
        "drive.mount('/content/gdrive')\n",
        "DRIVE_BASE = '/content/gdrive/My Drive'"
      ],
      "execution_count": 0,
      "outputs": []
    },
    {
      "cell_type": "markdown",
      "metadata": {
        "id": "gdC89qtCoor_",
        "colab_type": "text"
      },
      "source": [
        "## Definitions"
      ]
    },
    {
      "cell_type": "markdown",
      "metadata": {
        "id": "t1Y1vuRcovbO",
        "colab_type": "text"
      },
      "source": [
        "###Detsum"
      ]
    },
    {
      "cell_type": "code",
      "metadata": {
        "id": "XKI8VbALoyej",
        "colab_type": "code",
        "cellView": "both",
        "colab": {}
      },
      "source": [
        "class Detsum:\n",
        "  file_template = '^detsum_([a-zA-Z]{1,2})_([A-Z])(_norm)?.txt$'\n",
        "  def __init__(self, path, filter=True):\n",
        "    self.filename = path.split('/')[-1]\n",
        "    self.scan_name = path.split('/')[-2]\n",
        "    self.depth = path.split('/')[-3]\n",
        "    if re.search('_norm.txt', self.filename):\n",
        "      self.normalized = True\n",
        "    else:\n",
        "      self.normalized = False\n",
        "    if not re.fullmatch(Detsum.file_template, self.filename):\n",
        "      raise NameError(f'{self.filename} is not a valid name for Detsum')\n",
        "    self.element = re.search(Detsum.file_template, self.filename).group(1)\n",
        "    self.orbital = re.search(Detsum.file_template, self.filename).group(2)\n",
        "\n",
        "    self._data_raw = np.array(np.genfromtxt(path))\n",
        "    self.default_mask = self._create_default_mask(self._data_raw)\n",
        "    self.masks = []\n",
        "    if filter:\n",
        "      self.masks.append(self.default_mask)\n",
        "\n",
        "\n",
        "  @property\n",
        "  def data(self):\n",
        "    return self._apply_masks(self._data_raw)\n",
        "\n",
        "  @property\n",
        "  def total_counts(self):\n",
        "    return np.nansum(self.data)\n",
        "\n",
        "  def _apply_masks(self, data):\n",
        "    data = data.copy()\n",
        "    mask = np.logical_and.reduce(self.masks)\n",
        "    data[~mask] = np.nan\n",
        "    return data\n",
        "\n",
        "\n",
        "  def _filter_func(self, x, num_std=2):\n",
        "    return np.mean(x) + num_std * np.std(x)\n",
        "\n",
        "  def _create_default_mask(self, data):\n",
        "    interesting_points = data > self._filter_func(data)\n",
        "    return interesting_points\n",
        "\n",
        "  def add_mask(self, mask):\n",
        "    '''Removes points that aren't in the mask'''\n",
        "    assert mask.shape == self.data.shape\n",
        "    self.masks.append(mask)\n",
        "\n",
        "  def reset_mask(self):\n",
        "    self.masks = []\n",
        "    if filter:\n",
        "      self.masks.append(self.default_mask)\n",
        "\n",
        "  def plot(self, raw=False,\n",
        "           figsize=(7, 7),\n",
        "           ax=None,\n",
        "           **imshow_kwargs):\n",
        "\n",
        "    if ax is None:\n",
        "      fig, ax = plt.subplots(figsize=figsize)\n",
        "    else:\n",
        "      fig = ax.figure\n",
        "    if raw:\n",
        "      ax.imshow(self._data_raw, **imshow_kwargs)\n",
        "    else:\n",
        "      ax.imshow(self.data, aspect='equal', **imshow_kwargs)\n",
        "    ax.set_title(self)\n",
        "    ax.xaxis.set_visible(False)\n",
        "    ax.yaxis.set_visible(False)\n",
        "\n",
        "  # def __add__(self, other):\n",
        "  #   return self._create_default_mask(tot)\n",
        "\n",
        "  def __repr__(self):\n",
        "    return (f'Detsum(element: {self.element}, ' \n",
        "            f'orbital: {self.orbital}, ' \n",
        "            f'normalized: {self.normalized}, '\n",
        "            f'total counts: {self.total_counts}')\n",
        "\n"
      ],
      "execution_count": 0,
      "outputs": []
    },
    {
      "cell_type": "markdown",
      "metadata": {
        "id": "_9reOdD3pDaz",
        "colab_type": "text"
      },
      "source": [
        "###Scan"
      ]
    },
    {
      "cell_type": "code",
      "metadata": {
        "id": "B2Qv-i7no1GY",
        "colab_type": "code",
        "colab": {}
      },
      "source": [
        "class Scan:\n",
        "  file_template = '^scan2D_([0-9]{4,7})$' # Assume scan number < 1E6\n",
        "\n",
        "  def __init__(self, path,\n",
        "               elements_of_interest=None,\n",
        "               orbitals=['K'],\n",
        "               normalized=True,\n",
        "               filter=True):\n",
        "    self.depth = path.split('/')[-2]\n",
        "    self.name = path.split('/')[-1]\n",
        "    self._elements_of_interest = elements_of_interest\n",
        "    self._orbitals = orbitals\n",
        "    self._normalized = normalized\n",
        "    self._filter = filter\n",
        "    if not re.fullmatch(Scan.file_template, self.name):\n",
        "      raise NameError(f'{path} is not a valid name for Scan directory')\n",
        "    else:\n",
        "      self.path = path\n",
        "\n",
        "    self.scan_number = re.search(Scan.file_template, self.name).group(1)\n",
        "\n",
        "    # Build regex template based on parameters\n",
        "    template = '^detsum'\n",
        "    if elements_of_interest is None:\n",
        "      template += '[a-zA-Z]{1,2}'\n",
        "    else:\n",
        "      template += f'_({\"|\".join(elements_of_interest)})'\n",
        "    template += f'_({\"|\".join(orbitals)})'\n",
        "    if normalized:\n",
        "      template += '_norm.txt$'\n",
        "    else:\n",
        "      template += '.txt$'\n",
        "    self._template = template  \n",
        "    self.detsums = self._make_detsums(template)\n",
        "    self.detsums = sorted(self.detsums, key = lambda d: d.element)\n",
        "    self.test = 'test'\n",
        "\n",
        "  def _get_element_groups(self):\n",
        "    elements = np.array(self.elements)\n",
        "    data = np.stack([d.data for d in self.detsums], axis=2)\n",
        "    groups = np.zeros_like(data[..., 0]).astype(str)\n",
        "    unique_elements = {}\n",
        "    for i, row in enumerate(data):\n",
        "      for j, _ in enumerate(row): \n",
        "        pixel = data[i, j]\n",
        "        group_elements = elements[~np.isnan(pixel)]\n",
        "        group_name = '|'.join(group_elements)\n",
        "        groups[i, j] = group_name\n",
        "    return groups\n",
        "\n",
        "  def get_unique_groups(self, elements_to_sum=['Cu'], sort_by='counts'):\n",
        "    if sort_by not in (['num_pixels'] + [f'{element}_counts' for element in elements_to_sum]):\n",
        "      raise ValueError(\"`sort_by` must be 'pixels' or '{element}_counts'\")\n",
        "    data = self.data\n",
        "    aggfunc = {element: np.sum for element in elements_to_sum}\n",
        "    aggfunc.update(element_group = 'count')\n",
        "    res = pd.pivot_table(data,\n",
        "                         index='element_group',\n",
        "                         aggfunc=aggfunc)\n",
        "    res.columns=[f'{element}_counts' for element in elements_to_sum] + ['num_pixels']\n",
        "    return res.sort_values(by=sort_by, ascending=False)\n",
        "\n",
        "  def get_detsum(self, element):\n",
        "    assert element in self.elements\n",
        "    return self.detsums[self.elements.index(element)]\n",
        "\n",
        "  @property\n",
        "  def elements(self):\n",
        "    return [d.element for d in self.detsums]\n",
        "\n",
        "  @property\n",
        "  def data(self):\n",
        "    df = pd.DataFrame()\n",
        "    for d in self.detsums:\n",
        "      df[d.element] = d.data.ravel()\n",
        "\n",
        "    df['element_group'] = self._get_element_groups().ravel()\n",
        "    df = df.replace('^$', np.nan, regex=True)\n",
        "    return df\n",
        "\n",
        "  @property\n",
        "  def concentrations(self):\n",
        "    df = pd.DataFrame()\n",
        "    for d in self.detsums:\n",
        "      df[d.element] = [d.total_counts]\n",
        "    return df\n",
        "\n",
        "\n",
        "  def plot_concentrations(self,\n",
        "                          against='Cu',\n",
        "                          elements=None,\n",
        "                          single_figsize=(5, 5)):\n",
        "\n",
        "    ncols = 2\n",
        "    nrows = int(np.ceil(len(self.detsums) / ncols))\n",
        "    f = plt.figure(figsize=(ncols*single_figsize[0], nrows*single_figsize[1]))\n",
        "    x = self.detsums[list(map(lambda d: d.element, self.detsums)).index(against)]\n",
        "\n",
        "    #Make axes\n",
        "    for i, d in enumerate(self.detsums):\n",
        "      a = f.add_subplot(f'{nrows}{ncols}{i}')\n",
        "      #a = f.add_subplot(f'{nrows}{ncols}{i}')\n",
        "      a.scatter(x.data.ravel(), d.data.ravel())\n",
        "      a.set_xlabel(x.element, fontsize=14, fontweight='bold')\n",
        "      a.set_ylabel(d.element, fontsize=14, fontweight='bold')\n",
        "      a.text(0.5, 0.9, f'{d.element} total: {d.total_counts:0.4f}', transform=a.transAxes)\n",
        "      a.ticklabel_format(axis=\"x\", style=\"sci\", scilimits=(0,0))\n",
        "      a.ticklabel_format(axis=\"y\", style=\"sci\", scilimits=(0,0))\n",
        "      f.suptitle(f'Scan {self.scan_number}', y=0.9, fontsize=16, fontweight='bold')\n",
        "     \n",
        "\n",
        "  def interactive_plot(self,\n",
        "                       element='Cu',\n",
        "                       display=True,\n",
        "                       save=False,\n",
        "                       filename='altair_dashboard.html',\n",
        "                       base_dir=DRIVE_BASE):\n",
        "    # Only select pixels that have Cu values\n",
        "    cu_points = self.data[self.data[element].notnull()]\n",
        "    alt.data_transformers.disable_max_rows()\n",
        "    cu_points['num_present_elements'] = cu_points['element_group'].apply(lambda x: len(x.split('|')))\n",
        "    \n",
        "    \n",
        "    #unpivot the table into a new table with ['pixel', 'element', 'concentration']\n",
        "    cu_points_melted = cu_points.melt(\n",
        "        id_vars='element_group',\n",
        "        value_vars=self.elements,\n",
        "        var_name='element',\n",
        "        value_name='concentration')\n",
        "    \n",
        "    \n",
        "    selection = alt.selection_multi(fields=['element_group'])\n",
        "    \n",
        "    #base bar chart\n",
        "    bar_base = alt.Chart(cu_points_melted).transform_filter(\n",
        "        selection\n",
        "        ).encode(\n",
        "        y='element',\n",
        "        x='sum(concentration)',\n",
        "        text=alt.Text('sum(concentration)', format='0.2f')\n",
        "    )\n",
        "    \n",
        "    #function to create scatter plot based on element\n",
        "    scatter_base = lambda e: alt.Chart(cu_points).mark_circle().encode(\n",
        "        x=element,\n",
        "        y=e,\n",
        "        tooltip=self.elements,\n",
        "        color=alt.condition(selection, 'element_group:N', alt.value('lightgray'), legend=None)\n",
        "    ).add_selection(\n",
        "        selection\n",
        "    )\n",
        "    \n",
        "    counts = alt.Chart(cu_points).transform_filter(\n",
        "        selection\n",
        "    ).transform_aggregate(\n",
        "        count='count()'\n",
        "    ).transform_calculate(\n",
        "        text=\"number of points selected: \" + alt.datum.count\n",
        "    ).mark_text(\n",
        "        dy=-20,\n",
        "        baseline=\"top\",\n",
        "        align=\"left\"\n",
        "    ).encode(\n",
        "        x=alt.value(100),\n",
        "        y=alt.value(5),\n",
        "        text='text:N',\n",
        "    )\n",
        "  \n",
        "    # legend plot\n",
        "    legend = alt.Chart(cu_points).mark_circle(size=100).encode(\n",
        "        x='element_group:N',\n",
        "        color=alt.condition(selection, 'element_group:N', alt.value('lightgray'))\n",
        "    ).add_selection(\n",
        "        selection\n",
        "    )\n",
        "    \n",
        "    #bar plots\n",
        "    bar_final = bar_base.mark_bar()\n",
        "    bar_text = bar_base.mark_text(align='left', baseline='middle', dx=3)\n",
        "    \n",
        "    #scatter plots\n",
        "    scatters = alt.vconcat(\n",
        "        *[alt.hconcat(\n",
        "            *[(scatter_base(e).properties(width=300, height=150) + counts)\n",
        "            for e in self.elements[i:i+3] if e != 'cu']\n",
        "        )\n",
        "        for i in range(0, len(self.elements) - 1, 3)]\n",
        "    )\n",
        "    \n",
        "    \n",
        "    #final plot, put together with altair's fancy syntax\n",
        "    final_plot = alt.vconcat(scatters, legend | (bar_final + bar_text), center=True)\n",
        "  \n",
        "    if save:\n",
        "      final_plot.save(os.path.join(base_dir, filename))\n",
        "    \n",
        "    if display:\n",
        "      return final_plot \n",
        "  \n",
        "  # a = altair_plot(display=true,\n",
        "  #             save=false,\n",
        "  #             base_dir=drive_base + '/naomi_data_viz/', \n",
        "  #             filename='altair_dashboard.html')\n",
        "  # a\n",
        "\n",
        "  def _make_detsums(self, template):\n",
        "    detsums = []\n",
        "    for f in os.listdir(self.path):\n",
        "      fullpath = os.path.join(self.path, f)\n",
        "      #print(self._template, f, re.fullmatch(self._template, f))\n",
        "      if re.fullmatch(self._template, f):\n",
        "        detsums.append(Detsum(fullpath))\n",
        "    for d in detsums:\n",
        "      self.__dict__[f'{d.element}_{d.orbital}'] = d\n",
        "    return detsums\n",
        "  \n",
        "  def __repr__(self):\n",
        "    nl = '\\n'\n",
        "    #detsums = '\\n'.join([str(d) for d in self.detsums])\n",
        "    return (f'Scan(scan_number: {self.scan_number}, contained_detsums:{nl}'\n",
        "            f'{nl.join(map(str, self.detsums))})')\n",
        "\n",
        "  #def plot_all_detsums(self, raw=True)\n",
        "\n",
        "\n",
        "  def filter_by(self, element):\n",
        "    # Create a new scan object\n",
        "    s = Scan(self.path,\n",
        "             self._elements_of_interest,\n",
        "             self._orbitals,\n",
        "             self._normalized,\n",
        "             self._filter)\n",
        "\n",
        "    # Extract the mask from the element of interest\n",
        "    for d in s.detsums:\n",
        "      if d.element == element:\n",
        "        mask = d.default_mask\n",
        "\n",
        "    # Add mask to other detsums \n",
        "    for d in s.detsums:\n",
        "      if d.element != element:\n",
        "        d.add_mask(mask)\n",
        "    return s\n",
        "\n"
      ],
      "execution_count": 0,
      "outputs": []
    },
    {
      "cell_type": "markdown",
      "metadata": {
        "id": "2FgpqL7BW9pa",
        "colab_type": "text"
      },
      "source": [
        "####CombinedScan"
      ]
    },
    {
      "cell_type": "code",
      "metadata": {
        "id": "SiOA7I75Fc81",
        "colab_type": "code",
        "colab": {}
      },
      "source": [
        "class CombinedScan(Scan):\n",
        "  def __init__(self, scans):\n",
        "    \n",
        "    #make sure all scans are at the same depth\n",
        "    assert len(set([s.depth for s in scans])) == 1\n",
        "\n",
        "    self.depth = scans[0].depth\n",
        "    self._scans = scans\n",
        "\n",
        "\n",
        "  @property\n",
        "  def data(self):\n",
        "    scan_data = [s.data for s in self._scans]\n",
        "    return pd.concat(scan_data, ignore_index=True)\n",
        "  \n",
        "  def filter_by(self, element):\n",
        "    new_scans = [s.filter_by(element) for s in self._scans]\n",
        "    return CombinedScan(new_scans) \n",
        "\n",
        "  def get_detsum(self, element):\n",
        "    detsums = []\n",
        "    for s in self._scans:\n",
        "      assert element in s.elements\n",
        "      detsums.append(s.detsums[s.elements.index(element)])\n",
        "    return detsums\n",
        "\n",
        "  def __repr__(self):\n",
        "    scans = '\\n'.join([f'{s.__repr__()}\\n--------------------\\n' for s in self._scans])\n",
        "    return f'CombinedScan\\n===================\\n{scans})'\n",
        "           "
      ],
      "execution_count": 0,
      "outputs": []
    },
    {
      "cell_type": "markdown",
      "metadata": {
        "id": "9MnlathZo52N",
        "colab_type": "text"
      },
      "source": [
        "###Depth"
      ]
    },
    {
      "cell_type": "code",
      "metadata": {
        "id": "LoQjrtF5o49C",
        "colab_type": "code",
        "colab": {}
      },
      "source": [
        "class Depth:\n",
        "  file_template = '^([0-9])+m$'\n",
        "  def __init__(self, path,\n",
        "               elements_of_interest=None,\n",
        "               orbitals=['K'],\n",
        "               normalized=True):\n",
        "    self.scans = []\n",
        "    self.name = path.split('/')[-1]\n",
        "    if not re.fullmatch(Depth.file_template, self.name):\n",
        "      raise NameError(f'{self.name} is not a valid name for a Depth!')\n",
        "    #self.depth = re.search(Depth.file_template, path.split('/')[-1]).group(1)\n",
        "    self.depth = path.split('/')[-1]\n",
        "    for f in os.listdir(path):\n",
        "      fullpath = os.path.join(path, f)\n",
        "      try:\n",
        "        self.scans.append(\n",
        "            Scan(fullpath,\n",
        "                 elements_of_interest=elements_of_interest,\n",
        "                 orbitals=orbitals,\n",
        "                 normalized=normalized))\n",
        "      except NameError as e:\n",
        "        print(e)\n",
        "        pass\n",
        "\n",
        "  @property\n",
        "  def combined_scan(self):\n",
        "    return CombinedScan(self.scans)\n",
        "  \n",
        "  @property\n",
        "  def elements(self):\n",
        "    '''Returns the elements present in all scans'''\n",
        "    return sorted(list(reduce(set.intersection, [set(s.elements) for s in self.scans])))\n",
        "\n",
        "  @property\n",
        "  def summary(self):\n",
        "    pass\n",
        "\n",
        "  @property\n",
        "  def concentrations(self):\n",
        "    df = pd.DataFrame()\n",
        "    df.columns = self.elements\n",
        "    for s in self.scans:\n",
        "      df.loc[s.scan_number] = s.concentrations\n",
        "    df.index.name = 'Scan Number'\n",
        "    return df\n",
        "\n",
        "  def __repr__(self):\n",
        "    return f'Depth({self.depth}, scans: {[s.scan_number for s in self.scans]})'\n",
        "    "
      ],
      "execution_count": 0,
      "outputs": []
    },
    {
      "cell_type": "markdown",
      "metadata": {
        "id": "W1w4AL3bqPrm",
        "colab_type": "text"
      },
      "source": [
        "## Data Structures \n",
        "\n",
        "This notebook leverages 4 different objects: \n",
        "* `Depth`\n",
        "* `Scan`\n",
        "* `CombinedScan`\n",
        "* `Detsum`\n",
        "\n",
        "`Depth` is the top level container object. It holds various different `Scan` objects, as well as a single `CombinedScan` object. `Scan` objects hold various `Detsum` objects pertaining to particular elements, orbitals, and normalization information. As mentioned above, instantiating a `Depth` object will automatically create the required `Scan` (and thus `Detsum`) objects. \n",
        "\n",
        "----\n",
        "`Detsum` objects are associated with a particular element and orbital. A single `Scan` can hold many of these.\n",
        "\n",
        "---\n",
        "`Scan` objects do most of the heavy lifting, and we will see in the examples below how to use the provided methods.\n",
        "\n",
        "---\n",
        "`CombinedScan` objects behave similarly to Scan objects, and are used to collapse several scans into a single set of data.\n",
        "\n",
        "---\n",
        "This object structure mirrors the directory structure that contains all data. File and directory names must be formatted according to the following.\n",
        "\n",
        "* `Depth` directories: \"\\<depth_in_meters>m\"\n",
        "  * \"40m\"\n",
        "  * \"150m\"\n",
        "* `Scan` directories: \"scan2D_\\<scan_number>\"\n",
        "  * \"scan2D_21361\"\n",
        "  * \"scan2D_28872\"\n",
        "* `Detsum` files: \"detsum_\\<element>_\\<orbital>(_norm).txt\"\n",
        "  * \"detsum_Zn_K_norm.txt\"\n",
        "  * \"detsum_Tb_L.txt\"\n",
        "\n",
        "An example folder directory might look like this:\n",
        ">40m\n",
        ">>scan2D_28872\n",
        ">>>detsum_Fe_K_norm.txt\n",
        ">>>detsum_Sr_L_norm.txt\n",
        ">>>detsum_Cu_K_norm.txt \n",
        "\n",
        ">>scan2D_21361\n",
        ">>>detsum_Fe_K_norm.txt\n",
        ">>>detsum_Sr_L_norm.txt\n",
        ">>>detsum_Cu_K_norm.txt \n",
        "\n",
        ">100m\n",
        ">> ..\n",
        ">>> ..\n",
        "\n",
        "\n",
        "It is ok to have other files in the data folders. If the names do not match the conventions described above, the code will simply skip over these files."
      ]
    },
    {
      "cell_type": "markdown",
      "metadata": {
        "id": "IucbYz36Ue3u",
        "colab_type": "text"
      },
      "source": [
        "# Analysis"
      ]
    },
    {
      "cell_type": "markdown",
      "metadata": {
        "id": "y09dm_SdpI9H",
        "colab_type": "text"
      },
      "source": [
        "##Data Import\n",
        "\n",
        "\n",
        "The following cell will create a list of `Depth` objects to use for analysis. The resulting list will be stored in a variable called `depths`*italicized text*"
      ]
    },
    {
      "cell_type": "code",
      "metadata": {
        "id": "bvSFA7UxCVmw",
        "colab_type": "code",
        "cellView": "form",
        "colab": {}
      },
      "source": [
        "#@markdown Enter drive path to data folder (do not include 'My Drive/'):\n",
        "data_path = \"software_development/etsp/XRF data/\" #@param{type:\"string\"}\n",
        "#depth_path = \"software_development/etsp/XRF data/25m\" #@param {type:\"string\"}\n",
        "#@markdown Enter elements separated by comma\n",
        "ELEMENTS_OF_INTEREST = \"Br,Ca,Cu,Fe,K,Mg,Mn,S,Si,Zn\" #@param {type:\"string\"}\n",
        "ELEMENTS_OF_INTEREST=ELEMENTS_OF_INTEREST.split(',')\n",
        "ORBITALS = \"K\" #@param {type:\"string\"}\n",
        "\n",
        "def import_data(data_path):\n",
        "  depths = []\n",
        "  for d in os.listdir(os.path.join(DRIVE_BASE, data_path)):\n",
        "    try:\n",
        "      fullpath = os.path.join(DRIVE_BASE, data_path, d)\n",
        "      d = Depth(os.path.join(fullpath),\n",
        "                      ELEMENTS_OF_INTEREST,\n",
        "                      orbitals=['K'],\n",
        "                      normalized=True)\n",
        "      depths.append(d)\n",
        "      print(f\"Successfully imported data for {d.depth}\")\n",
        "    except NameError as e:\n",
        "      print(e)\n",
        "      pass\n",
        "  return depths\n",
        "\n",
        "depths = import_data(data_path)"
      ],
      "execution_count": 0,
      "outputs": []
    },
    {
      "cell_type": "markdown",
      "metadata": {
        "id": "J8leOAX7VLVR",
        "colab_type": "text"
      },
      "source": [
        "## Looking for Glitches\n",
        "\n",
        "Uncomment the last line and run the following cell to plot all `Detsums` from all depths."
      ]
    },
    {
      "cell_type": "code",
      "metadata": {
        "id": "hLc1k7-dVpzH",
        "colab_type": "code",
        "colab": {}
      },
      "source": [
        "def plot_all_detsums(depths, elements=None, sort_by='element'):\n",
        "  '''Plots the raw data from all detsums of the given elements.\n",
        "\n",
        "  Args:\n",
        "    depths: list of Depth objects\n",
        "    elements: optional list of elements. E.g. ['Cu', 'Fe']. If this \n",
        "      is `None`, then all elements will be plotted\n",
        "    sort_by: string. Can either be 'element' or 'depth'. This will\n",
        "      determine how the detsums are sorted before they are rendered\n",
        "      to the screen. This is set to 'element' by default\n",
        "    \n",
        "  Returns: raw detsums plotted in a grid\n",
        "  '''\n",
        "\n",
        "  # Triple looping to get detsums from all depths\n",
        "  detsums = []\n",
        "  for d in depths:\n",
        "    for s in d.scans:\n",
        "      for detsum in s.detsums:\n",
        "        if elements is not None:\n",
        "          if detsum.element not in elements:\n",
        "            continue # skip to next iteration\n",
        "        detsums.append(detsum)\n",
        "\n",
        "  # Determine sorting function \n",
        "  if sort_by == 'element':\n",
        "    sort_func = lambda d: d.element\n",
        "  elif sort_by == 'depth':\n",
        "    sort_func = lambda d: int(d.depth.split('m')[0]) # Turn depth into integer for sorting\n",
        "  \n",
        "  # Sort detsums\n",
        "  detsums = sorted(detsums, key=sort_func)\n",
        "\n",
        "  # Build grid\n",
        "  ncols = 4\n",
        "  nrows = 1 + (len(detsums) // ncols)\n",
        "  g = widgets.Grid(nrows, ncols)\n",
        "  row = 0\n",
        "  col = 0\n",
        "  for i, detsum in enumerate(detsums):\n",
        "    with g.output_to(row, col):\n",
        "      #print(f'Element: {detsum.element}, Depth: {detsum.depth}, Scan: {detsum.scan_name}')\n",
        "      print(f'    {detsum.element}    |    {detsum.depth}    |    {detsum.scan_name}')\n",
        "      detsum.plot(raw=True)\n",
        "    if (col + 1) % 4 == 0:\n",
        "      row += 1\n",
        "      col = 0\n",
        "    else:\n",
        "      col += 1\n",
        "\n",
        "##Example Usage\n",
        "#=====================================\n",
        "#Uncomment this line to plot all detsums from Iron and Copper, e.g:\n",
        "#plot_all_detsums(depths, elements=['Fe', 'Cu'])\n",
        "\n",
        "#Uncomment this line to plot all detsums from all elements and sort by depth:\n",
        "#plot_all_detsums(depths, elements=None, sort_by='depth')"
      ],
      "execution_count": 0,
      "outputs": []
    },
    {
      "cell_type": "markdown",
      "metadata": {
        "id": "wsSLj320SK2D",
        "colab_type": "text"
      },
      "source": [
        "##Ribbon Plot\n",
        "\n",
        "The `ribbon_plot` function shows fractional concentration of a given element in various different element groups. \n",
        "(will add more on this later)"
      ]
    },
    {
      "cell_type": "markdown",
      "metadata": {
        "id": "SwuEqEiWgcNp",
        "colab_type": "text"
      },
      "source": [
        "###Function definition"
      ]
    },
    {
      "cell_type": "code",
      "metadata": {
        "id": "lZPngWmkiatB",
        "colab_type": "code",
        "colab": {}
      },
      "source": [
        "def ribbon_plot(depths,\n",
        "                filter_by='Cu',\n",
        "                ax=None,\n",
        "                N=8,\n",
        "                normalize_by='counts'):\n",
        "  '''Shows fractional concentration of element among different groups.\n",
        "\n",
        "  Args:\n",
        "    filter_by: string. Element under investigation\n",
        "    ax: plt.Axes. Optional Axes to plot on\n",
        "    N: int. The amount of groups to use. For example, N=12 means \"take the\n",
        "      top 12 groups from each depth\"\n",
        "    normalize_by: string. Which quantity to use for data normalization. This\n",
        "      can either be 'counts' or 'pixels'.\n",
        "  '''\n",
        "  if ax is None:\n",
        "    fig, ax = plt.subplots(figsize=(16, 4))\n",
        "  else:\n",
        "    fig = ax.figure()\n",
        "\n",
        "  # Sort depth objects by depth\n",
        "  depths = sorted(depths, key=lambda d: int(d.depth[:-1]), reverse=True)\n",
        "\n",
        "  # Get a default list of 10 colors. I don't exactly understand *how* this\n",
        "  # works, but I know that it *does* work. Here is the stack overflow for\n",
        "  # this: https://stackoverflow.com/questions/49233855/matplotlib-add-more-colors-to-the-default-colors-in-axes-prop-cycle-manually\n",
        "  colors = plt.cm.tab10(np.arange(10))\n",
        "\n",
        "  patterns = [None, '///', '..', 'xx', '**', '+++', 'OO', '\\\\\\\\\\\\']\n",
        "  color_cycler = cycler(facecolor=colors)\n",
        "  pattern_cycler = cycler(hatch=patterns)\n",
        "\n",
        "  # Multiplication of cyclers results in the 'outer product'\n",
        "  # https://matplotlib.org/cycler/\n",
        "  props = iter(pattern_cycler * color_cycler)\n",
        "\n",
        "\n",
        "  prop_dict = {}\n",
        "\n",
        "  for i, depth in enumerate(depths):\n",
        "    scan = depth.combined_scan\n",
        "    # Get the unique groups and the total pixels and counts\n",
        "    if normalize_by == 'pixels':\n",
        "      sort_by = 'num_pixels'\n",
        "      col = 'num_pixels'\n",
        "      normalization = lambda g: g['num_pixels'].sum()\n",
        "    elif normalize_by == 'counts':\n",
        "      sort_by = f'{filter_by}_counts'\n",
        "      col = f'{filter_by}_counts'\n",
        "      normalization = lambda g: g[f'{filter_by}_counts'].sum()\n",
        "    else:\n",
        "      raise ValueError(\"`normalize_by` must be 'pixels' or 'counts'\")\n",
        "\n",
        "    groups = scan.filter_by(filter_by).get_unique_groups(elements_to_sum=[filter_by], sort_by=sort_by)\n",
        "    groups[col] /= normalization(groups)\n",
        "\n",
        "    # Gets the top N unique groups for this scan\n",
        "    groups = groups.iloc[:N]\n",
        "\n",
        "    # Assigns a unique color for each group, if the color doesn't exist yet\n",
        "    for g in groups.index:\n",
        "      if g not in prop_dict:\n",
        "        prop_dict[g] = next(props)\n",
        "        prop_dict[g].update({'alpha': 0.8, 'fill': True, 'edgecolor': 'k'})\n",
        "        #print(f'Adding {g} to prop_dict')\n",
        "\n",
        "    left = 0\n",
        "    thickness = 1\n",
        "\n",
        "    for group in groups.index:\n",
        "      #Encode the group value (e.g. Cu|Mn -> 0.0778) as the rectangle width\n",
        "      rect_width = groups[col].loc[group]\n",
        "      ax.add_patch(mpatches.Rectangle((left, i-thickness/2),\n",
        "                             rect_width, thickness,\n",
        "                             **prop_dict[group]))\n",
        "      left += rect_width\n",
        "\n",
        "    t=ax.text(left+0.02, i, f'{col}: {groups[col].sum():0.2f}',\n",
        "            verticalalignment='center',\n",
        "            fontsize=10,\n",
        "            color='black',\n",
        "            fontweight='bold',\n",
        "            transform=ax.transData)\n",
        "\n",
        "    # https://stackoverflow.com/questions/23696898/adjusting-text-background-transparency\n",
        "    #t.set_bbox({'facecolor':'white', 'alpha':0.8})\n",
        "    \n",
        "  # Make the legend using patches. Here is a helpful link\n",
        "  # https://stackoverflow.com/questions/53849888/make-patches-bigger-used-as-legend-inside-matplotlib\n",
        "  patches = []\n",
        "  for group in prop_dict:\n",
        "    patches.append(mpatches.Patch(\n",
        "       **prop_dict[group], \n",
        "       label=group,\n",
        "    ))\n",
        "  leg = ax.legend(handles=patches,\n",
        "                  bbox_to_anchor=(1.05, 1.2),\n",
        "                  ncol=len(patches) // 10,\n",
        "                  labelspacing=2)\n",
        "  for patch in leg.get_patches():\n",
        "    patch.set_height(22)\n",
        "    patch.set_y(-10)\n",
        "  \n",
        "  ax.set_yticks(np.arange(0, len(depths)))\n",
        "  ax.set_yticklabels([d.depth for d in depths])\n",
        "  ax.set_ylim(-0.5, len(depths)-0.5)\n",
        "  ax.set_xlim(0, 1.13)\n",
        "  ax.set_title(f'{filter_by} {normalize_by}', fontsize=16, fontweight='bold')\n",
        "  plt.show()\n",
        "\n",
        "\n"
      ],
      "execution_count": 0,
      "outputs": []
    },
    {
      "cell_type": "markdown",
      "metadata": {
        "id": "qb48mm05gfa9",
        "colab_type": "text"
      },
      "source": [
        "### **Plots**"
      ]
    },
    {
      "cell_type": "code",
      "metadata": {
        "id": "No1dzCeLafzp",
        "colab_type": "code",
        "colab": {}
      },
      "source": [
        "# Filter by Cu, take the top 10 groups. Plot counts\n",
        "ribbon_plot(depths, filter_by='Cu', normalize_by='counts', N=10)"
      ],
      "execution_count": 0,
      "outputs": []
    },
    {
      "cell_type": "code",
      "metadata": {
        "id": "r9qeFwregmiP",
        "colab_type": "code",
        "colab": {}
      },
      "source": [
        "# Filter by Fe, take the top 10 groups. Plot counts\n",
        "ribbon_plot(depths, filter_by='Fe', normalize_by='counts', N=10)"
      ],
      "execution_count": 0,
      "outputs": []
    },
    {
      "cell_type": "code",
      "metadata": {
        "id": "00Xi_eR-go4x",
        "colab_type": "code",
        "colab": {}
      },
      "source": [
        ""
      ],
      "execution_count": 0,
      "outputs": []
    },
    {
      "cell_type": "markdown",
      "metadata": {
        "id": "FljxVpud6WCq",
        "colab_type": "text"
      },
      "source": [
        "##Examples\n",
        "\n",
        "The following cells demonstrate how to work with the various objects defined above. Note that in these examples, Detsum and Scan objects are instantiated (brought into existence) directly, but in practice, this will happen automatically with an instantiation of a Depth object."
      ]
    },
    {
      "cell_type": "markdown",
      "metadata": {
        "id": "EBlOTyqNi_nU",
        "colab_type": "text"
      },
      "source": [
        "###Detsum object\n",
        "\n",
        "To instantiate a detsum object, we just pass in the filename and an optional `filter` parameter. If `filter` is a boolean that determines whether or not the uninteresting points are filtered out based on a hardcoded filter function."
      ]
    },
    {
      "cell_type": "code",
      "metadata": {
        "id": "Ex8pHPwKj-rA",
        "colab_type": "code",
        "colab": {}
      },
      "source": [
        "DetsumExample = Namespace() # Using Namespace to keep global variables from getting all over the place\n",
        "DetsumExample.filepath = os.path.join(DRIVE_BASE, \"software_development/etsp/XRF data/25m/scan2D_28903/detsum_Cu_K_norm.txt\") \n",
        "\n",
        "# Creating a Detsum object\n",
        "DetsumExample.d = Detsum(DetsumExample.filepath, filter=True) #passing `filter=True` will apply the 'non-trivial' filter defined at the top of the notebook\n",
        "\n",
        "# Printing a Detsum object to the output\n",
        "DetsumExample.d"
      ],
      "execution_count": 0,
      "outputs": []
    },
    {
      "cell_type": "code",
      "metadata": {
        "id": "F-eHoB3Ikqyf",
        "colab_type": "code",
        "colab": {}
      },
      "source": [
        "# Accessing some properties of the detsum object\n",
        "print('element: ', DetsumExample.d.element)\n",
        "print('oribital: ', DetsumExample.d.orbital)\n",
        "print('total counts: ', DetsumExample.d.total_counts)\n",
        "print('scan name: ', DetsumExample.d.scan_name)\n",
        "print('depth: ', DetsumExample.d.depth)"
      ],
      "execution_count": 0,
      "outputs": []
    },
    {
      "cell_type": "code",
      "metadata": {
        "id": "MlqfnVjGlTOX",
        "colab_type": "code",
        "colab": {}
      },
      "source": [
        "#Plot the filtered or unfiltered data\n",
        "DetsumExample.g = widgets.Grid(1, 2)\n",
        "with DetsumExample.g.output_to(0, 0):\n",
        "  DetsumExample.d.plot()\n",
        "with DetsumExample.g.output_to(0, 1):\n",
        "  DetsumExample.d.plot(raw=True)"
      ],
      "execution_count": 0,
      "outputs": []
    },
    {
      "cell_type": "code",
      "metadata": {
        "id": "1XiMlzXSln-5",
        "colab_type": "code",
        "colab": {}
      },
      "source": [
        "# Get the data. `nan` values have been filtered out by the default filter\n",
        "DetsumExample.d.data"
      ],
      "execution_count": 0,
      "outputs": []
    },
    {
      "cell_type": "markdown",
      "metadata": {
        "id": "74JfJtmplv_t",
        "colab_type": "text"
      },
      "source": [
        "### Scan object"
      ]
    },
    {
      "cell_type": "code",
      "metadata": {
        "id": "9bWN7RHAl1El",
        "colab_type": "code",
        "colab": {}
      },
      "source": [
        "#Create a Scan object\n",
        "ScanExample = Namespace()\n",
        "ScanExample.scan_path = os.path.join(DRIVE_BASE, \"software_development/etsp/XRF data/25m/scan2D_28903\")\n",
        "ScanExample.s = Scan(ScanExample.scan_path,\n",
        "                     elements_of_interest=['Ca', 'Cu', 'Fe'], # Only look for these elements in the scan folder\n",
        "                     orbitals=['K'], # Only look for 'K' orbitals\n",
        "                     normalized=True, # Only look for files that end in _norm.txt, as described above\n",
        "                     filter=True) # Passed into the constructor for all Detsums that will be created\n",
        "\n",
        "# Print Scan to output\n",
        "ScanExample.s"
      ],
      "execution_count": 0,
      "outputs": []
    },
    {
      "cell_type": "markdown",
      "metadata": {
        "id": "AxBKsWN-AgfD",
        "colab_type": "text"
      },
      "source": [
        "<h3>Filtering by different elements</h3>\n",
        "\n",
        "The `filter_by` method of the `Scan` class will filter out all pixels that do not contain non-trivial concentrations of the element passed in to `filter_by`."
      ]
    },
    {
      "cell_type": "code",
      "metadata": {
        "id": "-DU9Qrz8B5-F",
        "colab_type": "code",
        "colab": {}
      },
      "source": [
        "ScanExample.s.filter_by('Cu')"
      ],
      "execution_count": 0,
      "outputs": []
    },
    {
      "cell_type": "markdown",
      "metadata": {
        "id": "HMHDDyDzBbqS",
        "colab_type": "text"
      },
      "source": [
        "<h3>Accessing Detsums</h3>\n",
        "\n"
      ]
    },
    {
      "cell_type": "code",
      "metadata": {
        "id": "eEg0IBl4rZJM",
        "colab_type": "code",
        "colab": {}
      },
      "source": [
        "# First method\n",
        "ScanExample.s.get_detsum('Cu')"
      ],
      "execution_count": 0,
      "outputs": []
    },
    {
      "cell_type": "code",
      "metadata": {
        "id": "_Cgyb_P3CExy",
        "colab_type": "code",
        "colab": {}
      },
      "source": [
        "# Alternatively\n",
        "ScanExample.s.Cu_K"
      ],
      "execution_count": 0,
      "outputs": []
    },
    {
      "cell_type": "code",
      "metadata": {
        "id": "y0f6-nhtMZxV",
        "colab_type": "code",
        "colab": {}
      },
      "source": [
        "# Get all detsums\n",
        "ScanExample.s.detsums"
      ],
      "execution_count": 0,
      "outputs": []
    },
    {
      "cell_type": "markdown",
      "metadata": {
        "id": "xcJJagZmD1Xk",
        "colab_type": "text"
      },
      "source": [
        "<h3>Accessing Pixel Data</h3>\n",
        "\n",
        "Calling Scan.data will return a Pandas dataframe with all Detsum data flattened into individual columns. Each row represents a single pixel, and the last column gives a string representing the element group"
      ]
    },
    {
      "cell_type": "code",
      "metadata": {
        "id": "SvOSucYTEC7L",
        "colab_type": "code",
        "colab": {}
      },
      "source": [
        "ScanExample.data = ScanExample.s.filter_by('Cu').data \n",
        "ScanExample.data.dropna(how='all') # Filter out rows (pixels) that have all NaN"
      ],
      "execution_count": 0,
      "outputs": []
    },
    {
      "cell_type": "markdown",
      "metadata": {
        "id": "AvvysWqpCQMC",
        "colab_type": "text"
      },
      "source": [
        "<h3>Getting unique element groups</h3>\n",
        "\n",
        "This method returns the unique groups found in a particular scan, sorted in descending order by number of counts ($[x]$) or number of pixels containing that group. These are not necessarily the same values because individual pixels could contain high or low concentrations of a given *element*"
      ]
    },
    {
      "cell_type": "code",
      "metadata": {
        "id": "yI3afPYbseJv",
        "colab_type": "code",
        "colab": {}
      },
      "source": [
        "# Get groups, show Cu and Fe counts, and sort by Cu counts\n",
        "ScanExample.s.get_unique_groups(elements_to_sum=['Cu', 'Fe'], sort_by='Fe_counts')\n"
      ],
      "execution_count": 0,
      "outputs": []
    },
    {
      "cell_type": "code",
      "metadata": {
        "id": "vUnCK2XYDpy-",
        "colab_type": "code",
        "colab": {}
      },
      "source": [
        "# Filter by Cu, show Cu, Fe, and Ca counts, and sort by pixels\n",
        "ScanExample.s.filter_by('Cu').get_unique_groups(elements_to_sum=['Cu', 'Fe', 'Ca'],\n",
        "                                                sort_by='num_pixels')"
      ],
      "execution_count": 0,
      "outputs": []
    },
    {
      "cell_type": "markdown",
      "metadata": {
        "id": "Y1KslNEeIPUz",
        "colab_type": "text"
      },
      "source": [
        "<h3>Interactive Plot</h3>\n",
        "\n",
        "Calling `Scan.interactive_plot()` generates a nice dashboard that allows you to select individual element groups and look at the relative concentration values"
      ]
    },
    {
      "cell_type": "code",
      "metadata": {
        "id": "6iVy4dJMKuEL",
        "colab_type": "code",
        "colab": {}
      },
      "source": [
        "ScanExample.s.interactive_plot(element='Cu')"
      ],
      "execution_count": 0,
      "outputs": []
    },
    {
      "cell_type": "code",
      "metadata": {
        "id": "k-t2dusHmegu",
        "colab_type": "code",
        "colab": {}
      },
      "source": [
        "ScanExample.s.interactive_plot(element='Fe')"
      ],
      "execution_count": 0,
      "outputs": []
    },
    {
      "cell_type": "markdown",
      "metadata": {
        "id": "w8swPfbgMuuY",
        "colab_type": "text"
      },
      "source": [
        "###CombinedScan object\n",
        "\n",
        "For now, the CombinedScan class is a subclass (or child class) of the Scan object, but with reduced (or modified) functionality. "
      ]
    },
    {
      "cell_type": "markdown",
      "metadata": {
        "id": "q8jvROQXOJ6g",
        "colab_type": "text"
      },
      "source": [
        "<h3>Creating a CombinedScan</h3>\n",
        "\n",
        "`CombinedScan` objects take in a list of `Scans` as the only argument in the constructor"
      ]
    },
    {
      "cell_type": "code",
      "metadata": {
        "id": "a932PFlDOW5e",
        "colab_type": "code",
        "colab": {}
      },
      "source": [
        "CombinedScanExample = Namespace()\n",
        "CombinedScanExample.scan_root = os.path.join(DRIVE_BASE, \"software_development/etsp/XRF data/25m\")\n",
        "CombinedScanExample.scan_names = os.listdir(CombinedScanExample.scan_root)\n",
        "\n",
        "# Create some scans\n",
        "CombinedScanExample.scans = []\n",
        "for name in CombinedScanExample.scan_names:\n",
        "  CombinedScanExample.scans.append(\n",
        "      Scan(os.path.join(CombinedScanExample.scan_root, name),\n",
        "           elements_of_interest=['Ca', 'Cu', 'Fe'],\n",
        "           orbitals=['K'],\n",
        "           normalized=True,\n",
        "           filter=True)\n",
        "  )\n",
        "\n",
        "# Create CombinedScan\n",
        "CombinedScanExample.cs = CombinedScan(CombinedScanExample.scans)\n",
        "\n",
        "CombinedScanExample.cs"
      ],
      "execution_count": 0,
      "outputs": []
    },
    {
      "cell_type": "markdown",
      "metadata": {
        "id": "VFIbHs6JQu7R",
        "colab_type": "text"
      },
      "source": [
        "<h3>Getting Detsums</h3>\n",
        "\n",
        "This is similar to the `Scan` object, but instead of returning a single `Detsum`, it returns a list of `Detsums` corresponding to the `Scans`"
      ]
    },
    {
      "cell_type": "code",
      "metadata": {
        "id": "DdJ74D6lQ5i7",
        "colab_type": "code",
        "colab": {}
      },
      "source": [
        "CombinedScanExample.cs.get_detsum('Fe')"
      ],
      "execution_count": 0,
      "outputs": []
    },
    {
      "cell_type": "markdown",
      "metadata": {
        "id": "xVVOiROsRFUD",
        "colab_type": "text"
      },
      "source": [
        "<h3>Element Filtering</h3>\n",
        "\n",
        "Functionally, this is exactly the same as using the `filter_by` method of the `Scan` object. Under the hood, `CombinedScan` filters all `Scans` and then returns a new `CombinedScan` object containing the filtered `Scans`"
      ]
    },
    {
      "cell_type": "code",
      "metadata": {
        "id": "8t2-AgTeRVHG",
        "colab_type": "code",
        "colab": {}
      },
      "source": [
        "# Filter by Cu and store the new CombinedScan\n",
        "CombinedScanExample.filtered_cs = CombinedScanExample.cs.filter_by('Cu')\n",
        "\n",
        "#Plot the filtered Calcium detsum\n",
        "CombinedScanExample.filtered_cs.get_detsum('Ca')[0].plot(figsize=(10,10))"
      ],
      "execution_count": 0,
      "outputs": []
    },
    {
      "cell_type": "markdown",
      "metadata": {
        "id": "9tmUfNIWOAsw",
        "colab_type": "text"
      },
      "source": [
        "<h3>Accessing Pixel Data</h3>\n",
        "\n",
        "This is identical to accessing pixel data from a `Scan` object. You can see in the following example that there are 3 times as many pixels in the `CombinedScan` object as there are in the individual `Scan` objects above."
      ]
    },
    {
      "cell_type": "code",
      "metadata": {
        "id": "yzi8vRo4OHPX",
        "colab_type": "code",
        "colab": {}
      },
      "source": [
        "CombinedScanExample.cs.data.dropna(how='all')"
      ],
      "execution_count": 0,
      "outputs": []
    },
    {
      "cell_type": "markdown",
      "metadata": {
        "id": "RQO3gfWDP_t_",
        "colab_type": "text"
      },
      "source": [
        "<h3>Getting Unique Element Groups<h3>\n",
        "\n",
        "Again, this is done exactly the same way as it is done with a normal `Scan`"
      ]
    },
    {
      "cell_type": "code",
      "metadata": {
        "id": "jDijna9IQKbK",
        "colab_type": "code",
        "colab": {}
      },
      "source": [
        "# Get element groups, show Cu and Fe counts, and sort by Cu counts\n",
        "CombinedScanExample.cs.get_unique_groups(elements_to_sum=['Cu', 'Fe'], sort_by='Cu_counts')"
      ],
      "execution_count": 0,
      "outputs": []
    },
    {
      "cell_type": "markdown",
      "metadata": {
        "id": "yq3_D7KCRzsh",
        "colab_type": "text"
      },
      "source": [
        "### Depth Object\n",
        "\n",
        "The `Depth` object is mainly responsible for instantiating all `Scan` and `Detsum` objects from the file tree, as well as a single `CombinedScan` object from the created `Scans`.\n"
      ]
    },
    {
      "cell_type": "code",
      "metadata": {
        "id": "h0rcsm_SSDpa",
        "colab_type": "code",
        "colab": {}
      },
      "source": [
        "DepthExample = Namespace()\n",
        "DepthExample.path = os.path.join(DRIVE_BASE, 'software_development/etsp/XRF data/25m')\n",
        "DepthExample.d = Depth(DepthExample.path,\n",
        "                       elements_of_interest=['Cu', 'Ca', 'Fe'],\n",
        "                       orbitals=['K'],\n",
        "                       normalized=True)\n",
        "\n",
        "DepthExample.d"
      ],
      "execution_count": 0,
      "outputs": []
    },
    {
      "cell_type": "markdown",
      "metadata": {
        "id": "_8q2D3KMS5Ep",
        "colab_type": "text"
      },
      "source": [
        "<h3>Accessing Scans and CombinedScan</h3>"
      ]
    },
    {
      "cell_type": "code",
      "metadata": {
        "id": "c1O3S0fjS9WZ",
        "colab_type": "code",
        "colab": {}
      },
      "source": [
        "# Getting the CombinedScan\n",
        "DepthExample.d.combined_scan"
      ],
      "execution_count": 0,
      "outputs": []
    },
    {
      "cell_type": "code",
      "metadata": {
        "id": "4vYuWSItTDh2",
        "colab_type": "code",
        "colab": {}
      },
      "source": [
        "# Getting Scans\n",
        "DepthExample.d.scans"
      ],
      "execution_count": 0,
      "outputs": []
    },
    {
      "cell_type": "code",
      "metadata": {
        "id": "EQ3dC5KQTHkm",
        "colab_type": "code",
        "colab": {}
      },
      "source": [
        "# Getting the third Detsum from the second Scan\n",
        "DepthExample.d.scans[1].detsums[2]"
      ],
      "execution_count": 0,
      "outputs": []
    }
  ]
}